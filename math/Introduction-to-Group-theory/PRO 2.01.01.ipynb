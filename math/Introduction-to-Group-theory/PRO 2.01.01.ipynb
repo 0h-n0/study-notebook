{
 "cells": [
  {
   "cell_type": "markdown",
   "metadata": {},
   "source": [
    "> 2.1.1 \n",
    "\n",
    "> $G=0,1$ であるとき、$0\\cdot 0 = 0,\\quad 0\\cdot 1 = 1\\cdot 0 = 0,\\quad1\\cdot 1 = 1$で演算を定義すると、 $G$は群でないことを証明せよ"
   ]
  },
  {
   "cell_type": "markdown",
   "metadata": {},
   "source": [
    "単位元$a\\in G$を考えると\n",
    "\\begin{align}\n",
    "a\\cdot 0 = 0 \\\\\n",
    "a\\cdot 1 = 1\n",
    "\\end{align}\n",
    "よって,以上の結果を満たす元は1となり、$a=1$である。\n",
    "\n",
    "$G$は群であるから、0と1の逆元をそれぞれa,bとすると\n",
    "\\begin{align}\n",
    "0\\cdot a = 1 \\\\\n",
    "1\\cdot b = 1 \\\\\n",
    "\\end{align}\n",
    "となる。しかし、上記を満たすaは存在しないので、Gは群ではない。\n"
   ]
  }
 ],
 "metadata": {
  "kernelspec": {
   "display_name": "Python 3",
   "language": "python",
   "name": "python3"
  },
  "language_info": {
   "codemirror_mode": {
    "name": "ipython",
    "version": 3
   },
   "file_extension": ".py",
   "mimetype": "text/x-python",
   "name": "python",
   "nbconvert_exporter": "python",
   "pygments_lexer": "ipython3",
   "version": "3.6.1"
  }
 },
 "nbformat": 4,
 "nbformat_minor": 2
}
