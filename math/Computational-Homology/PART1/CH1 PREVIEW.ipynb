{
 "cells": [
  {
   "cell_type": "markdown",
   "metadata": {},
   "source": [
    "## Ch1. Preview\n",
    "\n",
    "* ホモロジーはローカルな計算情報から空間や写像のグローバルな特徴を抽出するためのとてもパワフルなツールである。\n",
    "* 代数、組み合わせ、計算機、トポロジーといった分野の知識が必要となる。\n",
    "* この本では上記のような魅力的な分野の話は置いておいて、効果的なホモロジー計算やホモロジーが非線形な関数などからどのように意味のあるトポロジー的情報を抽出するかを紹介する。\n",
    "* たくさんの原理的な証明は、とりあえず置いておく\n",
    "\n",
    "* ホモロジーの具体的な応用を紹介し、直感的にホモロジーで必要となる数学的な知識を説明する。\n",
    "\n",
    "###### 1.1 Analyzing image\n",
    "\n",
    "\n"
   ]
  }
 ],
 "metadata": {
  "kernelspec": {
   "display_name": "Python 3",
   "language": "python",
   "name": "python3"
  },
  "language_info": {
   "codemirror_mode": {
    "name": "ipython",
    "version": 3
   },
   "file_extension": ".py",
   "mimetype": "text/x-python",
   "name": "python",
   "nbconvert_exporter": "python",
   "pygments_lexer": "ipython3",
   "version": "3.6.1"
  }
 },
 "nbformat": 4,
 "nbformat_minor": 2
}
